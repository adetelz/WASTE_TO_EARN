{
 "cells": [
  {
   "cell_type": "code",
   "execution_count": 126,
   "metadata": {},
   "outputs": [],
   "source": [
    "import pandas as pd\n",
    "import numpy as np\n",
    "import matplotlib.pyplot as plt\n",
    "import seaborn as sns\n",
    "%matplotlib inline"
   ]
  },
  {
   "cell_type": "code",
   "execution_count": 127,
   "metadata": {},
   "outputs": [
    {
     "data": {
      "text/html": [
       "<div>\n",
       "<style scoped>\n",
       "    .dataframe tbody tr th:only-of-type {\n",
       "        vertical-align: middle;\n",
       "    }\n",
       "\n",
       "    .dataframe tbody tr th {\n",
       "        vertical-align: top;\n",
       "    }\n",
       "\n",
       "    .dataframe thead th {\n",
       "        text-align: right;\n",
       "    }\n",
       "</style>\n",
       "<table border=\"1\" class=\"dataframe\">\n",
       "  <thead>\n",
       "    <tr style=\"text-align: right;\">\n",
       "      <th></th>\n",
       "      <th>Zone</th>\n",
       "      <th>District</th>\n",
       "      <th>Fiscal Month Number</th>\n",
       "      <th>Fiscal Year</th>\n",
       "      <th>Month Name</th>\n",
       "      <th>Diversion Rate-Total (Total Recycling / Total Waste)</th>\n",
       "      <th>Capture Rate-Paper (Total Paper / Max Paper)</th>\n",
       "      <th>Capture Rate-MGP (Total MGP / Max MGP)</th>\n",
       "      <th>Capture Rate-Total ((Total Recycling - Leaves (Recycling)) / (Max Paper + Max MGP))x100</th>\n",
       "    </tr>\n",
       "  </thead>\n",
       "  <tbody>\n",
       "    <tr>\n",
       "      <th>0</th>\n",
       "      <td>Brooklyn North</td>\n",
       "      <td>BKN01</td>\n",
       "      <td>10</td>\n",
       "      <td>2019</td>\n",
       "      <td>April</td>\n",
       "      <td>14.687093</td>\n",
       "      <td>44.909160</td>\n",
       "      <td>43.034062</td>\n",
       "      <td>44.146764</td>\n",
       "    </tr>\n",
       "    <tr>\n",
       "      <th>1</th>\n",
       "      <td>Brooklyn North</td>\n",
       "      <td>BKN02</td>\n",
       "      <td>10</td>\n",
       "      <td>2019</td>\n",
       "      <td>April</td>\n",
       "      <td>19.950181</td>\n",
       "      <td>34.194020</td>\n",
       "      <td>57.947031</td>\n",
       "      <td>41.213700</td>\n",
       "    </tr>\n",
       "    <tr>\n",
       "      <th>2</th>\n",
       "      <td>Brooklyn North</td>\n",
       "      <td>BKN03</td>\n",
       "      <td>10</td>\n",
       "      <td>2019</td>\n",
       "      <td>April</td>\n",
       "      <td>12.164161</td>\n",
       "      <td>33.521557</td>\n",
       "      <td>44.919731</td>\n",
       "      <td>38.155937</td>\n",
       "    </tr>\n",
       "    <tr>\n",
       "      <th>3</th>\n",
       "      <td>Brooklyn North</td>\n",
       "      <td>BKN04</td>\n",
       "      <td>10</td>\n",
       "      <td>2019</td>\n",
       "      <td>April</td>\n",
       "      <td>15.541803</td>\n",
       "      <td>35.211361</td>\n",
       "      <td>68.511260</td>\n",
       "      <td>48.750755</td>\n",
       "    </tr>\n",
       "    <tr>\n",
       "      <th>4</th>\n",
       "      <td>Brooklyn North</td>\n",
       "      <td>BKN05</td>\n",
       "      <td>10</td>\n",
       "      <td>2019</td>\n",
       "      <td>April</td>\n",
       "      <td>10.051845</td>\n",
       "      <td>22.265430</td>\n",
       "      <td>45.051791</td>\n",
       "      <td>31.530129</td>\n",
       "    </tr>\n",
       "    <tr>\n",
       "      <th>...</th>\n",
       "      <td>...</td>\n",
       "      <td>...</td>\n",
       "      <td>...</td>\n",
       "      <td>...</td>\n",
       "      <td>...</td>\n",
       "      <td>...</td>\n",
       "      <td>...</td>\n",
       "      <td>...</td>\n",
       "      <td>...</td>\n",
       "    </tr>\n",
       "    <tr>\n",
       "      <th>2827</th>\n",
       "      <td>Queens West</td>\n",
       "      <td>QW06</td>\n",
       "      <td>3</td>\n",
       "      <td>2016</td>\n",
       "      <td>September</td>\n",
       "      <td>20.121474</td>\n",
       "      <td>30.419689</td>\n",
       "      <td>67.956136</td>\n",
       "      <td>39.033308</td>\n",
       "    </tr>\n",
       "    <tr>\n",
       "      <th>2828</th>\n",
       "      <td>Queens West</td>\n",
       "      <td>QW09</td>\n",
       "      <td>3</td>\n",
       "      <td>2016</td>\n",
       "      <td>September</td>\n",
       "      <td>17.434862</td>\n",
       "      <td>41.106547</td>\n",
       "      <td>79.695072</td>\n",
       "      <td>54.272736</td>\n",
       "    </tr>\n",
       "    <tr>\n",
       "      <th>2829</th>\n",
       "      <td>Staten Island</td>\n",
       "      <td>SI01</td>\n",
       "      <td>3</td>\n",
       "      <td>2016</td>\n",
       "      <td>September</td>\n",
       "      <td>18.683835</td>\n",
       "      <td>39.519943</td>\n",
       "      <td>71.716492</td>\n",
       "      <td>49.652669</td>\n",
       "    </tr>\n",
       "    <tr>\n",
       "      <th>2830</th>\n",
       "      <td>Staten Island</td>\n",
       "      <td>SI02</td>\n",
       "      <td>3</td>\n",
       "      <td>2016</td>\n",
       "      <td>September</td>\n",
       "      <td>19.016819</td>\n",
       "      <td>44.457926</td>\n",
       "      <td>74.960200</td>\n",
       "      <td>54.057439</td>\n",
       "    </tr>\n",
       "    <tr>\n",
       "      <th>2831</th>\n",
       "      <td>Staten Island</td>\n",
       "      <td>SI03</td>\n",
       "      <td>3</td>\n",
       "      <td>2016</td>\n",
       "      <td>September</td>\n",
       "      <td>20.310479</td>\n",
       "      <td>48.209297</td>\n",
       "      <td>79.496877</td>\n",
       "      <td>58.055957</td>\n",
       "    </tr>\n",
       "  </tbody>\n",
       "</table>\n",
       "<p>2832 rows × 9 columns</p>\n",
       "</div>"
      ],
      "text/plain": [
       "                Zone District  Fiscal Month Number  Fiscal Year Month Name  \\\n",
       "0     Brooklyn North    BKN01                   10         2019      April   \n",
       "1     Brooklyn North    BKN02                   10         2019      April   \n",
       "2     Brooklyn North    BKN03                   10         2019      April   \n",
       "3     Brooklyn North    BKN04                   10         2019      April   \n",
       "4     Brooklyn North    BKN05                   10         2019      April   \n",
       "...              ...      ...                  ...          ...        ...   \n",
       "2827     Queens West     QW06                    3         2016  September   \n",
       "2828     Queens West     QW09                    3         2016  September   \n",
       "2829   Staten Island     SI01                    3         2016  September   \n",
       "2830   Staten Island     SI02                    3         2016  September   \n",
       "2831   Staten Island     SI03                    3         2016  September   \n",
       "\n",
       "      Diversion Rate-Total (Total Recycling / Total Waste)  \\\n",
       "0                                             14.687093      \n",
       "1                                             19.950181      \n",
       "2                                             12.164161      \n",
       "3                                             15.541803      \n",
       "4                                             10.051845      \n",
       "...                                                 ...      \n",
       "2827                                          20.121474      \n",
       "2828                                          17.434862      \n",
       "2829                                          18.683835      \n",
       "2830                                          19.016819      \n",
       "2831                                          20.310479      \n",
       "\n",
       "      Capture Rate-Paper (Total Paper / Max Paper)  \\\n",
       "0                                        44.909160   \n",
       "1                                        34.194020   \n",
       "2                                        33.521557   \n",
       "3                                        35.211361   \n",
       "4                                        22.265430   \n",
       "...                                            ...   \n",
       "2827                                     30.419689   \n",
       "2828                                     41.106547   \n",
       "2829                                     39.519943   \n",
       "2830                                     44.457926   \n",
       "2831                                     48.209297   \n",
       "\n",
       "      Capture Rate-MGP (Total MGP / Max MGP)  \\\n",
       "0                                  43.034062   \n",
       "1                                  57.947031   \n",
       "2                                  44.919731   \n",
       "3                                  68.511260   \n",
       "4                                  45.051791   \n",
       "...                                      ...   \n",
       "2827                               67.956136   \n",
       "2828                               79.695072   \n",
       "2829                               71.716492   \n",
       "2830                               74.960200   \n",
       "2831                               79.496877   \n",
       "\n",
       "      Capture Rate-Total ((Total Recycling - Leaves (Recycling)) / (Max Paper + Max MGP))x100  \n",
       "0                                             44.146764                                        \n",
       "1                                             41.213700                                        \n",
       "2                                             38.155937                                        \n",
       "3                                             48.750755                                        \n",
       "4                                             31.530129                                        \n",
       "...                                                 ...                                        \n",
       "2827                                          39.033308                                        \n",
       "2828                                          54.272736                                        \n",
       "2829                                          49.652669                                        \n",
       "2830                                          54.057439                                        \n",
       "2831                                          58.055957                                        \n",
       "\n",
       "[2832 rows x 9 columns]"
      ]
     },
     "execution_count": 127,
     "metadata": {},
     "output_type": "execute_result"
    }
   ],
   "source": [
    "waste = pd.read_csv('recycling-diversion-and-capture-rates.csv')\n",
    "waste"
   ]
  },
  {
   "cell_type": "code",
   "execution_count": 128,
   "metadata": {},
   "outputs": [
    {
     "data": {
      "text/html": [
       "<div>\n",
       "<style scoped>\n",
       "    .dataframe tbody tr th:only-of-type {\n",
       "        vertical-align: middle;\n",
       "    }\n",
       "\n",
       "    .dataframe tbody tr th {\n",
       "        vertical-align: top;\n",
       "    }\n",
       "\n",
       "    .dataframe thead th {\n",
       "        text-align: right;\n",
       "    }\n",
       "</style>\n",
       "<table border=\"1\" class=\"dataframe\">\n",
       "  <thead>\n",
       "    <tr style=\"text-align: right;\">\n",
       "      <th></th>\n",
       "      <th>Zone</th>\n",
       "      <th>District</th>\n",
       "      <th>Fiscal Month Number</th>\n",
       "      <th>Fiscal Year</th>\n",
       "      <th>Month Name</th>\n",
       "      <th>Diversion Rate-Total (Total Recycling / Total Waste)</th>\n",
       "      <th>Capture Rate-Paper (Total Paper / Max Paper)</th>\n",
       "      <th>Capture Rate-MGP (Total MGP / Max MGP)</th>\n",
       "      <th>Capture Rate-Total ((Total Recycling - Leaves (Recycling)) / (Max Paper + Max MGP))x100</th>\n",
       "    </tr>\n",
       "  </thead>\n",
       "  <tbody>\n",
       "    <tr>\n",
       "      <th>0</th>\n",
       "      <td>Brooklyn North</td>\n",
       "      <td>BKN01</td>\n",
       "      <td>10</td>\n",
       "      <td>2019</td>\n",
       "      <td>April</td>\n",
       "      <td>14.687093</td>\n",
       "      <td>44.909160</td>\n",
       "      <td>43.034062</td>\n",
       "      <td>44.146764</td>\n",
       "    </tr>\n",
       "    <tr>\n",
       "      <th>1</th>\n",
       "      <td>Brooklyn North</td>\n",
       "      <td>BKN02</td>\n",
       "      <td>10</td>\n",
       "      <td>2019</td>\n",
       "      <td>April</td>\n",
       "      <td>19.950181</td>\n",
       "      <td>34.194020</td>\n",
       "      <td>57.947031</td>\n",
       "      <td>41.213700</td>\n",
       "    </tr>\n",
       "    <tr>\n",
       "      <th>2</th>\n",
       "      <td>Brooklyn North</td>\n",
       "      <td>BKN03</td>\n",
       "      <td>10</td>\n",
       "      <td>2019</td>\n",
       "      <td>April</td>\n",
       "      <td>12.164161</td>\n",
       "      <td>33.521557</td>\n",
       "      <td>44.919731</td>\n",
       "      <td>38.155937</td>\n",
       "    </tr>\n",
       "    <tr>\n",
       "      <th>3</th>\n",
       "      <td>Brooklyn North</td>\n",
       "      <td>BKN04</td>\n",
       "      <td>10</td>\n",
       "      <td>2019</td>\n",
       "      <td>April</td>\n",
       "      <td>15.541803</td>\n",
       "      <td>35.211361</td>\n",
       "      <td>68.511260</td>\n",
       "      <td>48.750755</td>\n",
       "    </tr>\n",
       "    <tr>\n",
       "      <th>4</th>\n",
       "      <td>Brooklyn North</td>\n",
       "      <td>BKN05</td>\n",
       "      <td>10</td>\n",
       "      <td>2019</td>\n",
       "      <td>April</td>\n",
       "      <td>10.051845</td>\n",
       "      <td>22.265430</td>\n",
       "      <td>45.051791</td>\n",
       "      <td>31.530129</td>\n",
       "    </tr>\n",
       "  </tbody>\n",
       "</table>\n",
       "</div>"
      ],
      "text/plain": [
       "             Zone District  Fiscal Month Number  Fiscal Year Month Name  \\\n",
       "0  Brooklyn North    BKN01                   10         2019      April   \n",
       "1  Brooklyn North    BKN02                   10         2019      April   \n",
       "2  Brooklyn North    BKN03                   10         2019      April   \n",
       "3  Brooklyn North    BKN04                   10         2019      April   \n",
       "4  Brooklyn North    BKN05                   10         2019      April   \n",
       "\n",
       "   Diversion Rate-Total (Total Recycling / Total Waste)  \\\n",
       "0                                          14.687093      \n",
       "1                                          19.950181      \n",
       "2                                          12.164161      \n",
       "3                                          15.541803      \n",
       "4                                          10.051845      \n",
       "\n",
       "   Capture Rate-Paper (Total Paper / Max Paper)  \\\n",
       "0                                     44.909160   \n",
       "1                                     34.194020   \n",
       "2                                     33.521557   \n",
       "3                                     35.211361   \n",
       "4                                     22.265430   \n",
       "\n",
       "   Capture Rate-MGP (Total MGP / Max MGP)  \\\n",
       "0                               43.034062   \n",
       "1                               57.947031   \n",
       "2                               44.919731   \n",
       "3                               68.511260   \n",
       "4                               45.051791   \n",
       "\n",
       "   Capture Rate-Total ((Total Recycling - Leaves (Recycling)) / (Max Paper + Max MGP))x100  \n",
       "0                                          44.146764                                        \n",
       "1                                          41.213700                                        \n",
       "2                                          38.155937                                        \n",
       "3                                          48.750755                                        \n",
       "4                                          31.530129                                        "
      ]
     },
     "execution_count": 128,
     "metadata": {},
     "output_type": "execute_result"
    }
   ],
   "source": [
    "waste.head()"
   ]
  },
  {
   "cell_type": "code",
   "execution_count": 129,
   "metadata": {},
   "outputs": [
    {
     "data": {
      "text/html": [
       "<div>\n",
       "<style scoped>\n",
       "    .dataframe tbody tr th:only-of-type {\n",
       "        vertical-align: middle;\n",
       "    }\n",
       "\n",
       "    .dataframe tbody tr th {\n",
       "        vertical-align: top;\n",
       "    }\n",
       "\n",
       "    .dataframe thead th {\n",
       "        text-align: right;\n",
       "    }\n",
       "</style>\n",
       "<table border=\"1\" class=\"dataframe\">\n",
       "  <thead>\n",
       "    <tr style=\"text-align: right;\">\n",
       "      <th></th>\n",
       "      <th>Zone</th>\n",
       "      <th>District</th>\n",
       "      <th>FMN</th>\n",
       "      <th>FY</th>\n",
       "      <th>Month Name</th>\n",
       "      <th>DR</th>\n",
       "      <th>CRP</th>\n",
       "      <th>CRP-MGP</th>\n",
       "      <th>CRT</th>\n",
       "    </tr>\n",
       "  </thead>\n",
       "  <tbody>\n",
       "    <tr>\n",
       "      <th>0</th>\n",
       "      <td>Brooklyn North</td>\n",
       "      <td>BKN01</td>\n",
       "      <td>10</td>\n",
       "      <td>2019</td>\n",
       "      <td>April</td>\n",
       "      <td>14.687093</td>\n",
       "      <td>44.909160</td>\n",
       "      <td>43.034062</td>\n",
       "      <td>44.146764</td>\n",
       "    </tr>\n",
       "    <tr>\n",
       "      <th>1</th>\n",
       "      <td>Brooklyn North</td>\n",
       "      <td>BKN02</td>\n",
       "      <td>10</td>\n",
       "      <td>2019</td>\n",
       "      <td>April</td>\n",
       "      <td>19.950181</td>\n",
       "      <td>34.194020</td>\n",
       "      <td>57.947031</td>\n",
       "      <td>41.213700</td>\n",
       "    </tr>\n",
       "    <tr>\n",
       "      <th>2</th>\n",
       "      <td>Brooklyn North</td>\n",
       "      <td>BKN03</td>\n",
       "      <td>10</td>\n",
       "      <td>2019</td>\n",
       "      <td>April</td>\n",
       "      <td>12.164161</td>\n",
       "      <td>33.521557</td>\n",
       "      <td>44.919731</td>\n",
       "      <td>38.155937</td>\n",
       "    </tr>\n",
       "    <tr>\n",
       "      <th>3</th>\n",
       "      <td>Brooklyn North</td>\n",
       "      <td>BKN04</td>\n",
       "      <td>10</td>\n",
       "      <td>2019</td>\n",
       "      <td>April</td>\n",
       "      <td>15.541803</td>\n",
       "      <td>35.211361</td>\n",
       "      <td>68.511260</td>\n",
       "      <td>48.750755</td>\n",
       "    </tr>\n",
       "    <tr>\n",
       "      <th>4</th>\n",
       "      <td>Brooklyn North</td>\n",
       "      <td>BKN05</td>\n",
       "      <td>10</td>\n",
       "      <td>2019</td>\n",
       "      <td>April</td>\n",
       "      <td>10.051845</td>\n",
       "      <td>22.265430</td>\n",
       "      <td>45.051791</td>\n",
       "      <td>31.530129</td>\n",
       "    </tr>\n",
       "    <tr>\n",
       "      <th>...</th>\n",
       "      <td>...</td>\n",
       "      <td>...</td>\n",
       "      <td>...</td>\n",
       "      <td>...</td>\n",
       "      <td>...</td>\n",
       "      <td>...</td>\n",
       "      <td>...</td>\n",
       "      <td>...</td>\n",
       "      <td>...</td>\n",
       "    </tr>\n",
       "    <tr>\n",
       "      <th>2827</th>\n",
       "      <td>Queens West</td>\n",
       "      <td>QW06</td>\n",
       "      <td>3</td>\n",
       "      <td>2016</td>\n",
       "      <td>September</td>\n",
       "      <td>20.121474</td>\n",
       "      <td>30.419689</td>\n",
       "      <td>67.956136</td>\n",
       "      <td>39.033308</td>\n",
       "    </tr>\n",
       "    <tr>\n",
       "      <th>2828</th>\n",
       "      <td>Queens West</td>\n",
       "      <td>QW09</td>\n",
       "      <td>3</td>\n",
       "      <td>2016</td>\n",
       "      <td>September</td>\n",
       "      <td>17.434862</td>\n",
       "      <td>41.106547</td>\n",
       "      <td>79.695072</td>\n",
       "      <td>54.272736</td>\n",
       "    </tr>\n",
       "    <tr>\n",
       "      <th>2829</th>\n",
       "      <td>Staten Island</td>\n",
       "      <td>SI01</td>\n",
       "      <td>3</td>\n",
       "      <td>2016</td>\n",
       "      <td>September</td>\n",
       "      <td>18.683835</td>\n",
       "      <td>39.519943</td>\n",
       "      <td>71.716492</td>\n",
       "      <td>49.652669</td>\n",
       "    </tr>\n",
       "    <tr>\n",
       "      <th>2830</th>\n",
       "      <td>Staten Island</td>\n",
       "      <td>SI02</td>\n",
       "      <td>3</td>\n",
       "      <td>2016</td>\n",
       "      <td>September</td>\n",
       "      <td>19.016819</td>\n",
       "      <td>44.457926</td>\n",
       "      <td>74.960200</td>\n",
       "      <td>54.057439</td>\n",
       "    </tr>\n",
       "    <tr>\n",
       "      <th>2831</th>\n",
       "      <td>Staten Island</td>\n",
       "      <td>SI03</td>\n",
       "      <td>3</td>\n",
       "      <td>2016</td>\n",
       "      <td>September</td>\n",
       "      <td>20.310479</td>\n",
       "      <td>48.209297</td>\n",
       "      <td>79.496877</td>\n",
       "      <td>58.055957</td>\n",
       "    </tr>\n",
       "  </tbody>\n",
       "</table>\n",
       "<p>2832 rows × 9 columns</p>\n",
       "</div>"
      ],
      "text/plain": [
       "                Zone District  FMN    FY Month Name         DR        CRP  \\\n",
       "0     Brooklyn North    BKN01   10  2019      April  14.687093  44.909160   \n",
       "1     Brooklyn North    BKN02   10  2019      April  19.950181  34.194020   \n",
       "2     Brooklyn North    BKN03   10  2019      April  12.164161  33.521557   \n",
       "3     Brooklyn North    BKN04   10  2019      April  15.541803  35.211361   \n",
       "4     Brooklyn North    BKN05   10  2019      April  10.051845  22.265430   \n",
       "...              ...      ...  ...   ...        ...        ...        ...   \n",
       "2827     Queens West     QW06    3  2016  September  20.121474  30.419689   \n",
       "2828     Queens West     QW09    3  2016  September  17.434862  41.106547   \n",
       "2829   Staten Island     SI01    3  2016  September  18.683835  39.519943   \n",
       "2830   Staten Island     SI02    3  2016  September  19.016819  44.457926   \n",
       "2831   Staten Island     SI03    3  2016  September  20.310479  48.209297   \n",
       "\n",
       "        CRP-MGP        CRT  \n",
       "0     43.034062  44.146764  \n",
       "1     57.947031  41.213700  \n",
       "2     44.919731  38.155937  \n",
       "3     68.511260  48.750755  \n",
       "4     45.051791  31.530129  \n",
       "...         ...        ...  \n",
       "2827  67.956136  39.033308  \n",
       "2828  79.695072  54.272736  \n",
       "2829  71.716492  49.652669  \n",
       "2830  74.960200  54.057439  \n",
       "2831  79.496877  58.055957  \n",
       "\n",
       "[2832 rows x 9 columns]"
      ]
     },
     "execution_count": 129,
     "metadata": {},
     "output_type": "execute_result"
    }
   ],
   "source": [
    "waste.columns = ['Zone','District','FMN','FY','Month Name','DR','CRP','CRP-MGP','CRT']\n",
    "waste"
   ]
  },
  {
   "cell_type": "code",
   "execution_count": 130,
   "metadata": {},
   "outputs": [
    {
     "data": {
      "text/html": [
       "<div>\n",
       "<style scoped>\n",
       "    .dataframe tbody tr th:only-of-type {\n",
       "        vertical-align: middle;\n",
       "    }\n",
       "\n",
       "    .dataframe tbody tr th {\n",
       "        vertical-align: top;\n",
       "    }\n",
       "\n",
       "    .dataframe thead th {\n",
       "        text-align: right;\n",
       "    }\n",
       "</style>\n",
       "<table border=\"1\" class=\"dataframe\">\n",
       "  <thead>\n",
       "    <tr style=\"text-align: right;\">\n",
       "      <th></th>\n",
       "      <th>Zone</th>\n",
       "      <th>Month Name</th>\n",
       "      <th>DR</th>\n",
       "      <th>CRP</th>\n",
       "      <th>CRP-MGP</th>\n",
       "      <th>CRT</th>\n",
       "    </tr>\n",
       "  </thead>\n",
       "  <tbody>\n",
       "    <tr>\n",
       "      <th>0</th>\n",
       "      <td>Brooklyn North</td>\n",
       "      <td>April</td>\n",
       "      <td>14.687093</td>\n",
       "      <td>44.909160</td>\n",
       "      <td>43.034062</td>\n",
       "      <td>44.146764</td>\n",
       "    </tr>\n",
       "    <tr>\n",
       "      <th>1</th>\n",
       "      <td>Brooklyn North</td>\n",
       "      <td>April</td>\n",
       "      <td>19.950181</td>\n",
       "      <td>34.194020</td>\n",
       "      <td>57.947031</td>\n",
       "      <td>41.213700</td>\n",
       "    </tr>\n",
       "    <tr>\n",
       "      <th>2</th>\n",
       "      <td>Brooklyn North</td>\n",
       "      <td>April</td>\n",
       "      <td>12.164161</td>\n",
       "      <td>33.521557</td>\n",
       "      <td>44.919731</td>\n",
       "      <td>38.155937</td>\n",
       "    </tr>\n",
       "    <tr>\n",
       "      <th>3</th>\n",
       "      <td>Brooklyn North</td>\n",
       "      <td>April</td>\n",
       "      <td>15.541803</td>\n",
       "      <td>35.211361</td>\n",
       "      <td>68.511260</td>\n",
       "      <td>48.750755</td>\n",
       "    </tr>\n",
       "    <tr>\n",
       "      <th>4</th>\n",
       "      <td>Brooklyn North</td>\n",
       "      <td>April</td>\n",
       "      <td>10.051845</td>\n",
       "      <td>22.265430</td>\n",
       "      <td>45.051791</td>\n",
       "      <td>31.530129</td>\n",
       "    </tr>\n",
       "    <tr>\n",
       "      <th>...</th>\n",
       "      <td>...</td>\n",
       "      <td>...</td>\n",
       "      <td>...</td>\n",
       "      <td>...</td>\n",
       "      <td>...</td>\n",
       "      <td>...</td>\n",
       "    </tr>\n",
       "    <tr>\n",
       "      <th>2827</th>\n",
       "      <td>Queens West</td>\n",
       "      <td>September</td>\n",
       "      <td>20.121474</td>\n",
       "      <td>30.419689</td>\n",
       "      <td>67.956136</td>\n",
       "      <td>39.033308</td>\n",
       "    </tr>\n",
       "    <tr>\n",
       "      <th>2828</th>\n",
       "      <td>Queens West</td>\n",
       "      <td>September</td>\n",
       "      <td>17.434862</td>\n",
       "      <td>41.106547</td>\n",
       "      <td>79.695072</td>\n",
       "      <td>54.272736</td>\n",
       "    </tr>\n",
       "    <tr>\n",
       "      <th>2829</th>\n",
       "      <td>Staten Island</td>\n",
       "      <td>September</td>\n",
       "      <td>18.683835</td>\n",
       "      <td>39.519943</td>\n",
       "      <td>71.716492</td>\n",
       "      <td>49.652669</td>\n",
       "    </tr>\n",
       "    <tr>\n",
       "      <th>2830</th>\n",
       "      <td>Staten Island</td>\n",
       "      <td>September</td>\n",
       "      <td>19.016819</td>\n",
       "      <td>44.457926</td>\n",
       "      <td>74.960200</td>\n",
       "      <td>54.057439</td>\n",
       "    </tr>\n",
       "    <tr>\n",
       "      <th>2831</th>\n",
       "      <td>Staten Island</td>\n",
       "      <td>September</td>\n",
       "      <td>20.310479</td>\n",
       "      <td>48.209297</td>\n",
       "      <td>79.496877</td>\n",
       "      <td>58.055957</td>\n",
       "    </tr>\n",
       "  </tbody>\n",
       "</table>\n",
       "<p>2832 rows × 6 columns</p>\n",
       "</div>"
      ],
      "text/plain": [
       "                Zone Month Name         DR        CRP    CRP-MGP        CRT\n",
       "0     Brooklyn North      April  14.687093  44.909160  43.034062  44.146764\n",
       "1     Brooklyn North      April  19.950181  34.194020  57.947031  41.213700\n",
       "2     Brooklyn North      April  12.164161  33.521557  44.919731  38.155937\n",
       "3     Brooklyn North      April  15.541803  35.211361  68.511260  48.750755\n",
       "4     Brooklyn North      April  10.051845  22.265430  45.051791  31.530129\n",
       "...              ...        ...        ...        ...        ...        ...\n",
       "2827     Queens West  September  20.121474  30.419689  67.956136  39.033308\n",
       "2828     Queens West  September  17.434862  41.106547  79.695072  54.272736\n",
       "2829   Staten Island  September  18.683835  39.519943  71.716492  49.652669\n",
       "2830   Staten Island  September  19.016819  44.457926  74.960200  54.057439\n",
       "2831   Staten Island  September  20.310479  48.209297  79.496877  58.055957\n",
       "\n",
       "[2832 rows x 6 columns]"
      ]
     },
     "execution_count": 130,
     "metadata": {},
     "output_type": "execute_result"
    }
   ],
   "source": [
    "waste.drop(['FY','District','FMN'],axis = 1,inplace = True)\n",
    "waste"
   ]
  },
  {
   "cell_type": "code",
   "execution_count": 131,
   "metadata": {},
   "outputs": [
    {
     "data": {
      "text/html": [
       "<div>\n",
       "<style scoped>\n",
       "    .dataframe tbody tr th:only-of-type {\n",
       "        vertical-align: middle;\n",
       "    }\n",
       "\n",
       "    .dataframe tbody tr th {\n",
       "        vertical-align: top;\n",
       "    }\n",
       "\n",
       "    .dataframe thead th {\n",
       "        text-align: right;\n",
       "    }\n",
       "</style>\n",
       "<table border=\"1\" class=\"dataframe\">\n",
       "  <thead>\n",
       "    <tr style=\"text-align: right;\">\n",
       "      <th></th>\n",
       "      <th>Zone</th>\n",
       "      <th>Month Name</th>\n",
       "      <th>DR</th>\n",
       "      <th>CRP</th>\n",
       "      <th>CRP-MGP</th>\n",
       "      <th>CRT</th>\n",
       "    </tr>\n",
       "  </thead>\n",
       "  <tbody>\n",
       "    <tr>\n",
       "      <th>0</th>\n",
       "      <td>KETU</td>\n",
       "      <td>April</td>\n",
       "      <td>14.687093</td>\n",
       "      <td>44.909160</td>\n",
       "      <td>43.034062</td>\n",
       "      <td>44.146764</td>\n",
       "    </tr>\n",
       "    <tr>\n",
       "      <th>1</th>\n",
       "      <td>KETU</td>\n",
       "      <td>April</td>\n",
       "      <td>19.950181</td>\n",
       "      <td>34.194020</td>\n",
       "      <td>57.947031</td>\n",
       "      <td>41.213700</td>\n",
       "    </tr>\n",
       "    <tr>\n",
       "      <th>2</th>\n",
       "      <td>KETU</td>\n",
       "      <td>April</td>\n",
       "      <td>12.164161</td>\n",
       "      <td>33.521557</td>\n",
       "      <td>44.919731</td>\n",
       "      <td>38.155937</td>\n",
       "    </tr>\n",
       "    <tr>\n",
       "      <th>3</th>\n",
       "      <td>KETU</td>\n",
       "      <td>April</td>\n",
       "      <td>15.541803</td>\n",
       "      <td>35.211361</td>\n",
       "      <td>68.511260</td>\n",
       "      <td>48.750755</td>\n",
       "    </tr>\n",
       "    <tr>\n",
       "      <th>4</th>\n",
       "      <td>KETU</td>\n",
       "      <td>April</td>\n",
       "      <td>10.051845</td>\n",
       "      <td>22.265430</td>\n",
       "      <td>45.051791</td>\n",
       "      <td>31.530129</td>\n",
       "    </tr>\n",
       "    <tr>\n",
       "      <th>...</th>\n",
       "      <td>...</td>\n",
       "      <td>...</td>\n",
       "      <td>...</td>\n",
       "      <td>...</td>\n",
       "      <td>...</td>\n",
       "      <td>...</td>\n",
       "    </tr>\n",
       "    <tr>\n",
       "      <th>2827</th>\n",
       "      <td>IKEJA</td>\n",
       "      <td>September</td>\n",
       "      <td>20.121474</td>\n",
       "      <td>30.419689</td>\n",
       "      <td>67.956136</td>\n",
       "      <td>39.033308</td>\n",
       "    </tr>\n",
       "    <tr>\n",
       "      <th>2828</th>\n",
       "      <td>IKEJA</td>\n",
       "      <td>September</td>\n",
       "      <td>17.434862</td>\n",
       "      <td>41.106547</td>\n",
       "      <td>79.695072</td>\n",
       "      <td>54.272736</td>\n",
       "    </tr>\n",
       "    <tr>\n",
       "      <th>2829</th>\n",
       "      <td>LEKKI</td>\n",
       "      <td>September</td>\n",
       "      <td>18.683835</td>\n",
       "      <td>39.519943</td>\n",
       "      <td>71.716492</td>\n",
       "      <td>49.652669</td>\n",
       "    </tr>\n",
       "    <tr>\n",
       "      <th>2830</th>\n",
       "      <td>LEKKI</td>\n",
       "      <td>September</td>\n",
       "      <td>19.016819</td>\n",
       "      <td>44.457926</td>\n",
       "      <td>74.960200</td>\n",
       "      <td>54.057439</td>\n",
       "    </tr>\n",
       "    <tr>\n",
       "      <th>2831</th>\n",
       "      <td>LEKKI</td>\n",
       "      <td>September</td>\n",
       "      <td>20.310479</td>\n",
       "      <td>48.209297</td>\n",
       "      <td>79.496877</td>\n",
       "      <td>58.055957</td>\n",
       "    </tr>\n",
       "  </tbody>\n",
       "</table>\n",
       "<p>2832 rows × 6 columns</p>\n",
       "</div>"
      ],
      "text/plain": [
       "       Zone Month Name         DR        CRP    CRP-MGP        CRT\n",
       "0      KETU      April  14.687093  44.909160  43.034062  44.146764\n",
       "1      KETU      April  19.950181  34.194020  57.947031  41.213700\n",
       "2      KETU      April  12.164161  33.521557  44.919731  38.155937\n",
       "3      KETU      April  15.541803  35.211361  68.511260  48.750755\n",
       "4      KETU      April  10.051845  22.265430  45.051791  31.530129\n",
       "...     ...        ...        ...        ...        ...        ...\n",
       "2827  IKEJA  September  20.121474  30.419689  67.956136  39.033308\n",
       "2828  IKEJA  September  17.434862  41.106547  79.695072  54.272736\n",
       "2829  LEKKI  September  18.683835  39.519943  71.716492  49.652669\n",
       "2830  LEKKI  September  19.016819  44.457926  74.960200  54.057439\n",
       "2831  LEKKI  September  20.310479  48.209297  79.496877  58.055957\n",
       "\n",
       "[2832 rows x 6 columns]"
      ]
     },
     "execution_count": 131,
     "metadata": {},
     "output_type": "execute_result"
    }
   ],
   "source": [
    "waste['Zone'] = waste['Zone'].str.replace('Brooklyn North','KETU')\n",
    "waste['Zone'] = waste['Zone'].str.replace('Brooklyn South','MAGODO')\n",
    "waste['Zone'] = waste['Zone'].str.replace('Queens West','IKEJA')\n",
    "waste['Zone'] = waste['Zone'].str.replace('Staten Island','LEKKI')\n",
    "waste['Zone'] = waste['Zone'].str.replace('Manhattan','ORILE')\n",
    "waste['Zone'] = waste['Zone'].str.replace('Queens East','IKOYI')\n",
    "waste['Zone'] = waste['Zone'].str.replace('Bronx','MUSHIN')\n",
    "waste"
   ]
  },
  {
   "cell_type": "code",
   "execution_count": 132,
   "metadata": {},
   "outputs": [
    {
     "data": {
      "text/plain": [
       "Zone          0\n",
       "Month Name    0\n",
       "DR            0\n",
       "CRP           0\n",
       "CRP-MGP       0\n",
       "CRT           0\n",
       "dtype: int64"
      ]
     },
     "execution_count": 132,
     "metadata": {},
     "output_type": "execute_result"
    }
   ],
   "source": [
    "waste.isnull().sum()"
   ]
  },
  {
   "cell_type": "code",
   "execution_count": 133,
   "metadata": {},
   "outputs": [
    {
     "data": {
      "text/plain": [
       "<seaborn.axisgrid.PairGrid at 0x201329f2520>"
      ]
     },
     "execution_count": 133,
     "metadata": {},
     "output_type": "execute_result"
    },
    {
     "data": {
      "image/png": "[encoded data removed]",
      "text/plain": [
       "<Figure size 720x720 with 20 Axes>"
      ]
     },
     "metadata": {
      "needs_background": "light"
     },
     "output_type": "display_data"
    }
   ],
   "source": [
    "sns.pairplot(waste)"
   ]
  },
  {
   "cell_type": "code",
   "execution_count": 134,
   "metadata": {},
   "outputs": [
    {
     "data": {
      "text/plain": [
       "MUSHIN    576\n",
       "ORILE     576\n",
       "MAGODO    432\n",
       "KETU      432\n",
       "IKOYI     336\n",
       "IKEJA     336\n",
       "LEKKI     144\n",
       "Name: Zone, dtype: int64"
      ]
     },
     "execution_count": 134,
     "metadata": {},
     "output_type": "execute_result"
    }
   ],
   "source": [
    "waste['Zone'].value_counts()"
   ]
  },
  {
   "cell_type": "code",
   "execution_count": 135,
   "metadata": {},
   "outputs": [
    {
     "data": {
      "text/plain": [
       "Zone\n",
       "IKEJA     51.505599\n",
       "IKOYI     48.768839\n",
       "KETU      39.659000\n",
       "LEKKI     55.533794\n",
       "MAGODO    51.058554\n",
       "MUSHIN    40.198558\n",
       "ORILE     46.331025\n",
       "Name: CRT, dtype: float64"
      ]
     },
     "execution_count": 135,
     "metadata": {},
     "output_type": "execute_result"
    }
   ],
   "source": [
    "CRT_MEAN = waste.groupby('Zone').CRT.mean ()\n",
    "CRT_MEAN"
   ]
  },
  {
   "cell_type": "code",
   "execution_count": 148,
   "metadata": {
    "scrolled": true
   },
   "outputs": [
    {
     "data": {
      "image/png": "[encoded data removed]",
      "text/plain": [
       "<Figure size 720x360 with 1 Axes>"
      ]
     },
     "metadata": {},
     "output_type": "display_data"
    }
   ],
   "source": [
    "fig4=labels = 'LEKKI','IKEJA','ORILE','MAGODO','IKOYI','MUSHIN','KETU'\n",
    "sizes = [43,42,60,55,55,50,52]\n",
    "colors = ['yellow', 'yellowgreen', 'lightcoral', 'lightskyblue','pink','cyan','magenta']\n",
    "explode = (0.5,0.5,0.1,0.1,0.1, 0.1,0.1)  # explode 1st slice\n",
    "plt.pie(sizes, explode=explode, labels=labels, colors=colors,\n",
    "autopct='%1.1f%%', shadow=True, startangle=360)\n",
    "plt.rcParams['figure.figsize']=(10,5)\n",
    "plt.axis('equal')\n",
    "plt.title('TOTAL RECYCLING PER ZONE')\n",
    "plt.savefig('wasteCRT-Mean')\n",
    "plt.show()"
   ]
  },
  {
   "cell_type": "code",
   "execution_count": 149,
   "metadata": {},
   "outputs": [
    {
     "data": {
      "image/png": "[encoded data removed]",
      "text/plain": [
       "<Figure size 720x360 with 1 Axes>"
      ]
     },
     "metadata": {},
     "output_type": "display_data"
    }
   ],
   "source": [
    "fig3=labels = 'LEKKI','IKEJA','ORILE','MAGODO','IKOYI','MUSHIN','KETU'\n",
    "sizes = [58,55,58,55,52,41,41]\n",
    "colors = ['yellow', 'yellowgreen', 'lightcoral', 'lightskyblue','pink','cyan','magenta']\n",
    "explode = (0.1,0.1,0.1,0.1,0.1, 0.4,0.4)  # explode 1st slice\n",
    "plt.pie(sizes, explode=explode, labels=labels, colors=colors,\n",
    "autopct='%1.1f%%', shadow=True, startangle=360)\n",
    "plt.rcParams['figure.figsize']=(10,5)\n",
    "plt.axis('equal')\n",
    "plt.title('TOTAL RECYCLING PER ZONE')\n",
    "plt.savefig('wasteDRPIE')\n",
    "plt.show()"
   ]
  },
  {
   "cell_type": "code",
   "execution_count": null,
   "metadata": {},
   "outputs": [],
   "source": []
  },
  {
   "cell_type": "code",
   "execution_count": 147,
   "metadata": {
    "scrolled": true
   },
   "outputs": [
    {
     "data": {
      "image/png": "[encoded data removed]",
      "text/plain": [
       "<Figure size 720x360 with 1 Axes>"
      ]
     },
     "metadata": {
      "needs_background": "light"
     },
     "output_type": "display_data"
    }
   ],
   "source": [
    "fig1=plt.bar(waste['Zone'], waste['DR'])\n",
    "plt.xticks(rotation=30)\n",
    "plt.ylabel('DR')\n",
    "colors = ['orange','skyblue','brown','red','gray','indigo','green']\n",
    "plt.savefig('wasteDR')\n",
    "plt.show()"
   ]
  },
  {
   "cell_type": "code",
   "execution_count": 87,
   "metadata": {
    "collapsed": true
   },
   "outputs": [
    {
     "ename": "KeyError",
     "evalue": "'FY'",
     "output_type": "error",
     "traceback": [
      "\u001b[1;31m---------------------------------------------------------------------------\u001b[0m",
      "\u001b[1;31mKeyError\u001b[0m                                  Traceback (most recent call last)",
      "\u001b[1;32m<ipython-input-87-b167294322e3>\u001b[0m in \u001b[0;36m<module>\u001b[1;34m\u001b[0m\n\u001b[1;32m----> 1\u001b[1;33m \u001b[0myear\u001b[0m \u001b[1;33m=\u001b[0m \u001b[0mwaste\u001b[0m\u001b[1;33m.\u001b[0m\u001b[0mgroupby\u001b[0m\u001b[1;33m(\u001b[0m\u001b[1;33m[\u001b[0m\u001b[1;34m'Zone'\u001b[0m\u001b[1;33m,\u001b[0m \u001b[1;34m'FY'\u001b[0m\u001b[1;33m]\u001b[0m\u001b[1;33m)\u001b[0m\u001b[1;33m\u001b[0m\u001b[1;33m\u001b[0m\u001b[0m\n\u001b[0m\u001b[0;32m      2\u001b[0m \u001b[0myear\u001b[0m\u001b[1;33m.\u001b[0m\u001b[0mmean\u001b[0m\u001b[1;33m(\u001b[0m\u001b[1;33m)\u001b[0m\u001b[1;33m\u001b[0m\u001b[1;33m\u001b[0m\u001b[0m\n",
      "\u001b[1;32mC:\\ProgramData\\Anaconda3\\lib\\site-packages\\pandas\\core\\frame.py\u001b[0m in \u001b[0;36mgroupby\u001b[1;34m(self, by, axis, level, as_index, sort, group_keys, squeeze, observed, dropna)\u001b[0m\n\u001b[0;32m   6509\u001b[0m         \u001b[0maxis\u001b[0m \u001b[1;33m=\u001b[0m \u001b[0mself\u001b[0m\u001b[1;33m.\u001b[0m\u001b[0m_get_axis_number\u001b[0m\u001b[1;33m(\u001b[0m\u001b[0maxis\u001b[0m\u001b[1;33m)\u001b[0m\u001b[1;33m\u001b[0m\u001b[1;33m\u001b[0m\u001b[0m\n\u001b[0;32m   6510\u001b[0m \u001b[1;33m\u001b[0m\u001b[0m\n\u001b[1;32m-> 6511\u001b[1;33m         return DataFrameGroupBy(\n\u001b[0m\u001b[0;32m   6512\u001b[0m             \u001b[0mobj\u001b[0m\u001b[1;33m=\u001b[0m\u001b[0mself\u001b[0m\u001b[1;33m,\u001b[0m\u001b[1;33m\u001b[0m\u001b[1;33m\u001b[0m\u001b[0m\n\u001b[0;32m   6513\u001b[0m             \u001b[0mkeys\u001b[0m\u001b[1;33m=\u001b[0m\u001b[0mby\u001b[0m\u001b[1;33m,\u001b[0m\u001b[1;33m\u001b[0m\u001b[1;33m\u001b[0m\u001b[0m\n",
      "\u001b[1;32mC:\\ProgramData\\Anaconda3\\lib\\site-packages\\pandas\\core\\groupby\\groupby.py\u001b[0m in \u001b[0;36m__init__\u001b[1;34m(self, obj, keys, axis, level, grouper, exclusions, selection, as_index, sort, group_keys, squeeze, observed, mutated, dropna)\u001b[0m\n\u001b[0;32m    523\u001b[0m             \u001b[1;32mfrom\u001b[0m \u001b[0mpandas\u001b[0m\u001b[1;33m.\u001b[0m\u001b[0mcore\u001b[0m\u001b[1;33m.\u001b[0m\u001b[0mgroupby\u001b[0m\u001b[1;33m.\u001b[0m\u001b[0mgrouper\u001b[0m \u001b[1;32mimport\u001b[0m \u001b[0mget_grouper\u001b[0m\u001b[1;33m\u001b[0m\u001b[1;33m\u001b[0m\u001b[0m\n\u001b[0;32m    524\u001b[0m \u001b[1;33m\u001b[0m\u001b[0m\n\u001b[1;32m--> 525\u001b[1;33m             grouper, exclusions, obj = get_grouper(\n\u001b[0m\u001b[0;32m    526\u001b[0m                 \u001b[0mobj\u001b[0m\u001b[1;33m,\u001b[0m\u001b[1;33m\u001b[0m\u001b[1;33m\u001b[0m\u001b[0m\n\u001b[0;32m    527\u001b[0m                 \u001b[0mkeys\u001b[0m\u001b[1;33m,\u001b[0m\u001b[1;33m\u001b[0m\u001b[1;33m\u001b[0m\u001b[0m\n",
      "\u001b[1;32mC:\\ProgramData\\Anaconda3\\lib\\site-packages\\pandas\\core\\groupby\\grouper.py\u001b[0m in \u001b[0;36mget_grouper\u001b[1;34m(obj, key, axis, level, sort, observed, mutated, validate, dropna)\u001b[0m\n\u001b[0;32m    779\u001b[0m                 \u001b[0min_axis\u001b[0m\u001b[1;33m,\u001b[0m \u001b[0mname\u001b[0m\u001b[1;33m,\u001b[0m \u001b[0mlevel\u001b[0m\u001b[1;33m,\u001b[0m \u001b[0mgpr\u001b[0m \u001b[1;33m=\u001b[0m \u001b[1;32mFalse\u001b[0m\u001b[1;33m,\u001b[0m \u001b[1;32mNone\u001b[0m\u001b[1;33m,\u001b[0m \u001b[0mgpr\u001b[0m\u001b[1;33m,\u001b[0m \u001b[1;32mNone\u001b[0m\u001b[1;33m\u001b[0m\u001b[1;33m\u001b[0m\u001b[0m\n\u001b[0;32m    780\u001b[0m             \u001b[1;32melse\u001b[0m\u001b[1;33m:\u001b[0m\u001b[1;33m\u001b[0m\u001b[1;33m\u001b[0m\u001b[0m\n\u001b[1;32m--> 781\u001b[1;33m                 \u001b[1;32mraise\u001b[0m \u001b[0mKeyError\u001b[0m\u001b[1;33m(\u001b[0m\u001b[0mgpr\u001b[0m\u001b[1;33m)\u001b[0m\u001b[1;33m\u001b[0m\u001b[1;33m\u001b[0m\u001b[0m\n\u001b[0m\u001b[0;32m    782\u001b[0m         \u001b[1;32melif\u001b[0m \u001b[0misinstance\u001b[0m\u001b[1;33m(\u001b[0m\u001b[0mgpr\u001b[0m\u001b[1;33m,\u001b[0m \u001b[0mGrouper\u001b[0m\u001b[1;33m)\u001b[0m \u001b[1;32mand\u001b[0m \u001b[0mgpr\u001b[0m\u001b[1;33m.\u001b[0m\u001b[0mkey\u001b[0m \u001b[1;32mis\u001b[0m \u001b[1;32mnot\u001b[0m \u001b[1;32mNone\u001b[0m\u001b[1;33m:\u001b[0m\u001b[1;33m\u001b[0m\u001b[1;33m\u001b[0m\u001b[0m\n\u001b[0;32m    783\u001b[0m             \u001b[1;31m# Add key to exclusions\u001b[0m\u001b[1;33m\u001b[0m\u001b[1;33m\u001b[0m\u001b[1;33m\u001b[0m\u001b[0m\n",
      "\u001b[1;31mKeyError\u001b[0m: 'FY'"
     ]
    }
   ],
   "source": [
    "year = waste.groupby(['Zone', 'FY'])\n",
    "year.mean()"
   ]
  },
  {
   "cell_type": "code",
   "execution_count": 88,
   "metadata": {},
   "outputs": [],
   "source": [
    "waste1 = pd.DataFrame({'ZONE':['IKEJA','IKOYI','KETU','LEKKI','MAGODO','MUSHIN','ORILE'],'CRT_MEAN':[51.505599,48.768839,39.659000,55.533794,51.058554,40.198558,46.331025]})"
   ]
  },
  {
   "cell_type": "code",
   "execution_count": 89,
   "metadata": {},
   "outputs": [
    {
     "data": {
      "text/html": [
       "<div>\n",
       "<style scoped>\n",
       "    .dataframe tbody tr th:only-of-type {\n",
       "        vertical-align: middle;\n",
       "    }\n",
       "\n",
       "    .dataframe tbody tr th {\n",
       "        vertical-align: top;\n",
       "    }\n",
       "\n",
       "    .dataframe thead th {\n",
       "        text-align: right;\n",
       "    }\n",
       "</style>\n",
       "<table border=\"1\" class=\"dataframe\">\n",
       "  <thead>\n",
       "    <tr style=\"text-align: right;\">\n",
       "      <th></th>\n",
       "      <th>ZONE</th>\n",
       "      <th>CRT_MEAN</th>\n",
       "    </tr>\n",
       "  </thead>\n",
       "  <tbody>\n",
       "    <tr>\n",
       "      <th>0</th>\n",
       "      <td>IKEJA</td>\n",
       "      <td>51.505599</td>\n",
       "    </tr>\n",
       "    <tr>\n",
       "      <th>1</th>\n",
       "      <td>IKOYI</td>\n",
       "      <td>48.768839</td>\n",
       "    </tr>\n",
       "    <tr>\n",
       "      <th>2</th>\n",
       "      <td>KETU</td>\n",
       "      <td>39.659000</td>\n",
       "    </tr>\n",
       "    <tr>\n",
       "      <th>3</th>\n",
       "      <td>LEKKI</td>\n",
       "      <td>55.533794</td>\n",
       "    </tr>\n",
       "    <tr>\n",
       "      <th>4</th>\n",
       "      <td>MAGODO</td>\n",
       "      <td>51.058554</td>\n",
       "    </tr>\n",
       "    <tr>\n",
       "      <th>5</th>\n",
       "      <td>MUSHIN</td>\n",
       "      <td>40.198558</td>\n",
       "    </tr>\n",
       "    <tr>\n",
       "      <th>6</th>\n",
       "      <td>ORILE</td>\n",
       "      <td>46.331025</td>\n",
       "    </tr>\n",
       "  </tbody>\n",
       "</table>\n",
       "</div>"
      ],
      "text/plain": [
       "     ZONE   CRT_MEAN\n",
       "0   IKEJA  51.505599\n",
       "1   IKOYI  48.768839\n",
       "2    KETU  39.659000\n",
       "3   LEKKI  55.533794\n",
       "4  MAGODO  51.058554\n",
       "5  MUSHIN  40.198558\n",
       "6   ORILE  46.331025"
      ]
     },
     "execution_count": 89,
     "metadata": {},
     "output_type": "execute_result"
    }
   ],
   "source": [
    "waste1"
   ]
  },
  {
   "cell_type": "code",
   "execution_count": 150,
   "metadata": {},
   "outputs": [
    {
     "data": {
      "image/png": "[encoded data removed]",
      "text/plain": [
       "<Figure size 720x360 with 1 Axes>"
      ]
     },
     "metadata": {
      "needs_background": "light"
     },
     "output_type": "display_data"
    }
   ],
   "source": [
    "fig2=plt.bar(waste1['ZONE'], waste1['CRT_MEAN'])\n",
    "plt.xticks(rotation=30)\n",
    "plt.ylabel('CRT_MEAN')\n",
    "colors = ['orange','skyblue','brown','red','gray','indigo','green']\n",
    "plt.savefig('wastebarCRT-Mean.png')\n",
    "plt.show()\n"
   ]
  },
  {
   "cell_type": "code",
   "execution_count": 106,
   "metadata": {},
   "outputs": [],
   "source": [
    "X = waste[['DR','CRP','CRP-MGP',]]\n",
    "y = waste['CRT']"
   ]
  },
  {
   "cell_type": "code",
   "execution_count": 107,
   "metadata": {},
   "outputs": [],
   "source": [
    "from sklearn.model_selection import train_test_split"
   ]
  },
  {
   "cell_type": "code",
   "execution_count": 108,
   "metadata": {},
   "outputs": [],
   "source": [
    "X_train, X_test, y_train, y_test = train_test_split(X, y, test_size=0.3, random_state=42)"
   ]
  },
  {
   "cell_type": "code",
   "execution_count": 109,
   "metadata": {},
   "outputs": [
    {
     "data": {
      "text/html": [
       "<div>\n",
       "<style scoped>\n",
       "    .dataframe tbody tr th:only-of-type {\n",
       "        vertical-align: middle;\n",
       "    }\n",
       "\n",
       "    .dataframe tbody tr th {\n",
       "        vertical-align: top;\n",
       "    }\n",
       "\n",
       "    .dataframe thead th {\n",
       "        text-align: right;\n",
       "    }\n",
       "</style>\n",
       "<table border=\"1\" class=\"dataframe\">\n",
       "  <thead>\n",
       "    <tr style=\"text-align: right;\">\n",
       "      <th></th>\n",
       "      <th>DR</th>\n",
       "      <th>CRP</th>\n",
       "      <th>CRP-MGP</th>\n",
       "    </tr>\n",
       "  </thead>\n",
       "  <tbody>\n",
       "    <tr>\n",
       "      <th>1628</th>\n",
       "      <td>22.632767</td>\n",
       "      <td>32.221419</td>\n",
       "      <td>72.762328</td>\n",
       "    </tr>\n",
       "    <tr>\n",
       "      <th>1025</th>\n",
       "      <td>11.382238</td>\n",
       "      <td>25.179239</td>\n",
       "      <td>51.363530</td>\n",
       "    </tr>\n",
       "    <tr>\n",
       "      <th>1565</th>\n",
       "      <td>27.558704</td>\n",
       "      <td>43.094379</td>\n",
       "      <td>76.701408</td>\n",
       "    </tr>\n",
       "    <tr>\n",
       "      <th>1393</th>\n",
       "      <td>26.675994</td>\n",
       "      <td>41.331481</td>\n",
       "      <td>80.367759</td>\n",
       "    </tr>\n",
       "    <tr>\n",
       "      <th>1477</th>\n",
       "      <td>11.269972</td>\n",
       "      <td>30.994768</td>\n",
       "      <td>38.507451</td>\n",
       "    </tr>\n",
       "    <tr>\n",
       "      <th>...</th>\n",
       "      <td>...</td>\n",
       "      <td>...</td>\n",
       "      <td>...</td>\n",
       "    </tr>\n",
       "    <tr>\n",
       "      <th>1638</th>\n",
       "      <td>27.894686</td>\n",
       "      <td>50.464120</td>\n",
       "      <td>81.367196</td>\n",
       "    </tr>\n",
       "    <tr>\n",
       "      <th>1095</th>\n",
       "      <td>23.211211</td>\n",
       "      <td>35.437503</td>\n",
       "      <td>77.256941</td>\n",
       "    </tr>\n",
       "    <tr>\n",
       "      <th>1130</th>\n",
       "      <td>29.728306</td>\n",
       "      <td>46.079453</td>\n",
       "      <td>81.982243</td>\n",
       "    </tr>\n",
       "    <tr>\n",
       "      <th>1294</th>\n",
       "      <td>25.058517</td>\n",
       "      <td>41.632410</td>\n",
       "      <td>84.470161</td>\n",
       "    </tr>\n",
       "    <tr>\n",
       "      <th>860</th>\n",
       "      <td>20.829553</td>\n",
       "      <td>32.633133</td>\n",
       "      <td>60.441323</td>\n",
       "    </tr>\n",
       "  </tbody>\n",
       "</table>\n",
       "<p>1982 rows × 3 columns</p>\n",
       "</div>"
      ],
      "text/plain": [
       "             DR        CRP    CRP-MGP\n",
       "1628  22.632767  32.221419  72.762328\n",
       "1025  11.382238  25.179239  51.363530\n",
       "1565  27.558704  43.094379  76.701408\n",
       "1393  26.675994  41.331481  80.367759\n",
       "1477  11.269972  30.994768  38.507451\n",
       "...         ...        ...        ...\n",
       "1638  27.894686  50.464120  81.367196\n",
       "1095  23.211211  35.437503  77.256941\n",
       "1130  29.728306  46.079453  81.982243\n",
       "1294  25.058517  41.632410  84.470161\n",
       "860   20.829553  32.633133  60.441323\n",
       "\n",
       "[1982 rows x 3 columns]"
      ]
     },
     "execution_count": 109,
     "metadata": {},
     "output_type": "execute_result"
    }
   ],
   "source": [
    "X_train"
   ]
  },
  {
   "cell_type": "code",
   "execution_count": 110,
   "metadata": {},
   "outputs": [],
   "source": [
    "from sklearn.linear_model import LinearRegression"
   ]
  },
  {
   "cell_type": "code",
   "execution_count": 111,
   "metadata": {},
   "outputs": [],
   "source": [
    "lm = LinearRegression()"
   ]
  },
  {
   "cell_type": "code",
   "execution_count": 112,
   "metadata": {},
   "outputs": [
    {
     "data": {
      "text/plain": [
       "LinearRegression()"
      ]
     },
     "execution_count": 112,
     "metadata": {},
     "output_type": "execute_result"
    }
   ],
   "source": [
    "lm.fit(X_train,y_train)"
   ]
  },
  {
   "cell_type": "code",
   "execution_count": 113,
   "metadata": {},
   "outputs": [
    {
     "name": "stdout",
     "output_type": "stream",
     "text": [
      "0.8362461919599937\n"
     ]
    }
   ],
   "source": [
    "print(lm.intercept_)"
   ]
  },
  {
   "cell_type": "code",
   "execution_count": 114,
   "metadata": {},
   "outputs": [
    {
     "name": "stdout",
     "output_type": "stream",
     "text": [
      "[-0.40354326  0.73003983  0.39765875]\n"
     ]
    }
   ],
   "source": [
    "print(lm.coef_)"
   ]
  },
  {
   "cell_type": "code",
   "execution_count": 117,
   "metadata": {},
   "outputs": [
    {
     "data": {
      "text/plain": [
       "array([-0.40354326,  0.73003983,  0.39765875])"
      ]
     },
     "execution_count": 117,
     "metadata": {},
     "output_type": "execute_result"
    }
   ],
   "source": [
    "lm.coef_"
   ]
  },
  {
   "cell_type": "code",
   "execution_count": 118,
   "metadata": {},
   "outputs": [
    {
     "data": {
      "text/html": [
       "<div>\n",
       "<style scoped>\n",
       "    .dataframe tbody tr th:only-of-type {\n",
       "        vertical-align: middle;\n",
       "    }\n",
       "\n",
       "    .dataframe tbody tr th {\n",
       "        vertical-align: top;\n",
       "    }\n",
       "\n",
       "    .dataframe thead th {\n",
       "        text-align: right;\n",
       "    }\n",
       "</style>\n",
       "<table border=\"1\" class=\"dataframe\">\n",
       "  <thead>\n",
       "    <tr style=\"text-align: right;\">\n",
       "      <th></th>\n",
       "      <th>Coefficient</th>\n",
       "    </tr>\n",
       "  </thead>\n",
       "  <tbody>\n",
       "    <tr>\n",
       "      <th>DR</th>\n",
       "      <td>-0.403543</td>\n",
       "    </tr>\n",
       "    <tr>\n",
       "      <th>CRP</th>\n",
       "      <td>0.730040</td>\n",
       "    </tr>\n",
       "    <tr>\n",
       "      <th>CRP-MGP</th>\n",
       "      <td>0.397659</td>\n",
       "    </tr>\n",
       "  </tbody>\n",
       "</table>\n",
       "</div>"
      ],
      "text/plain": [
       "         Coefficient\n",
       "DR         -0.403543\n",
       "CRP         0.730040\n",
       "CRP-MGP     0.397659"
      ]
     },
     "execution_count": 118,
     "metadata": {},
     "output_type": "execute_result"
    }
   ],
   "source": [
    "coeff_df = pd.DataFrame(lm.coef_.reshape(3,1),X.columns,columns=['Coefficient'])\n",
    "coeff_df"
   ]
  },
  {
   "cell_type": "code",
   "execution_count": 121,
   "metadata": {},
   "outputs": [
    {
     "ename": "KeyError",
     "evalue": "'CRP'",
     "output_type": "error",
     "traceback": [
      "\u001b[1;31m---------------------------------------------------------------------------\u001b[0m",
      "\u001b[1;31mKeyError\u001b[0m                                  Traceback (most recent call last)",
      "\u001b[1;32mC:\\ProgramData\\Anaconda3\\lib\\site-packages\\pandas\\core\\indexes\\base.py\u001b[0m in \u001b[0;36mget_loc\u001b[1;34m(self, key, method, tolerance)\u001b[0m\n\u001b[0;32m   2894\u001b[0m             \u001b[1;32mtry\u001b[0m\u001b[1;33m:\u001b[0m\u001b[1;33m\u001b[0m\u001b[1;33m\u001b[0m\u001b[0m\n\u001b[1;32m-> 2895\u001b[1;33m                 \u001b[1;32mreturn\u001b[0m \u001b[0mself\u001b[0m\u001b[1;33m.\u001b[0m\u001b[0m_engine\u001b[0m\u001b[1;33m.\u001b[0m\u001b[0mget_loc\u001b[0m\u001b[1;33m(\u001b[0m\u001b[0mcasted_key\u001b[0m\u001b[1;33m)\u001b[0m\u001b[1;33m\u001b[0m\u001b[1;33m\u001b[0m\u001b[0m\n\u001b[0m\u001b[0;32m   2896\u001b[0m             \u001b[1;32mexcept\u001b[0m \u001b[0mKeyError\u001b[0m \u001b[1;32mas\u001b[0m \u001b[0merr\u001b[0m\u001b[1;33m:\u001b[0m\u001b[1;33m\u001b[0m\u001b[1;33m\u001b[0m\u001b[0m\n",
      "\u001b[1;32mpandas\\_libs\\index.pyx\u001b[0m in \u001b[0;36mpandas._libs.index.IndexEngine.get_loc\u001b[1;34m()\u001b[0m\n",
      "\u001b[1;32mpandas\\_libs\\index.pyx\u001b[0m in \u001b[0;36mpandas._libs.index.IndexEngine.get_loc\u001b[1;34m()\u001b[0m\n",
      "\u001b[1;32mpandas\\_libs\\hashtable_class_helper.pxi\u001b[0m in \u001b[0;36mpandas._libs.hashtable.PyObjectHashTable.get_item\u001b[1;34m()\u001b[0m\n",
      "\u001b[1;32mpandas\\_libs\\hashtable_class_helper.pxi\u001b[0m in \u001b[0;36mpandas._libs.hashtable.PyObjectHashTable.get_item\u001b[1;34m()\u001b[0m\n",
      "\u001b[1;31mKeyError\u001b[0m: 'CRP'",
      "\nThe above exception was the direct cause of the following exception:\n",
      "\u001b[1;31mKeyError\u001b[0m                                  Traceback (most recent call last)",
      "\u001b[1;32m<ipython-input-121-c09ea9f64867>\u001b[0m in \u001b[0;36m<module>\u001b[1;34m\u001b[0m\n\u001b[1;32m----> 1\u001b[1;33m \u001b[0mplt\u001b[0m\u001b[1;33m.\u001b[0m\u001b[0mbar\u001b[0m\u001b[1;33m(\u001b[0m\u001b[0mcoeff_df\u001b[0m\u001b[1;33m[\u001b[0m\u001b[1;34m'CRP'\u001b[0m\u001b[1;33m]\u001b[0m\u001b[1;33m,\u001b[0m \u001b[0mcoeff_df\u001b[0m\u001b[1;33m[\u001b[0m\u001b[1;34m'CRT_MGP'\u001b[0m\u001b[1;33m]\u001b[0m\u001b[1;33m)\u001b[0m\u001b[1;33m\u001b[0m\u001b[1;33m\u001b[0m\u001b[0m\n\u001b[0m\u001b[0;32m      2\u001b[0m \u001b[0mplt\u001b[0m\u001b[1;33m.\u001b[0m\u001b[0mxticks\u001b[0m\u001b[1;33m(\u001b[0m\u001b[0mrotation\u001b[0m\u001b[1;33m=\u001b[0m\u001b[1;36m30\u001b[0m\u001b[1;33m)\u001b[0m\u001b[1;33m\u001b[0m\u001b[1;33m\u001b[0m\u001b[0m\n\u001b[0;32m      3\u001b[0m \u001b[0mplt\u001b[0m\u001b[1;33m.\u001b[0m\u001b[0mylabel\u001b[0m\u001b[1;33m(\u001b[0m\u001b[1;34m'Cofficient'\u001b[0m\u001b[1;33m)\u001b[0m\u001b[1;33m\u001b[0m\u001b[1;33m\u001b[0m\u001b[0m\n\u001b[0;32m      4\u001b[0m \u001b[0mcolors\u001b[0m \u001b[1;33m=\u001b[0m \u001b[1;33m[\u001b[0m\u001b[1;34m'orange'\u001b[0m\u001b[1;33m,\u001b[0m\u001b[1;34m'skyblue'\u001b[0m\u001b[1;33m,\u001b[0m\u001b[1;34m'brown'\u001b[0m\u001b[1;33m,\u001b[0m\u001b[1;34m'red'\u001b[0m\u001b[1;33m,\u001b[0m\u001b[1;34m'gray'\u001b[0m\u001b[1;33m,\u001b[0m\u001b[1;34m'indigo'\u001b[0m\u001b[1;33m,\u001b[0m\u001b[1;34m'green'\u001b[0m\u001b[1;33m]\u001b[0m\u001b[1;33m\u001b[0m\u001b[1;33m\u001b[0m\u001b[0m\n\u001b[0;32m      5\u001b[0m \u001b[0mplt\u001b[0m\u001b[1;33m.\u001b[0m\u001b[0mshow\u001b[0m\u001b[1;33m(\u001b[0m\u001b[1;33m)\u001b[0m\u001b[1;33m\u001b[0m\u001b[1;33m\u001b[0m\u001b[0m\n",
      "\u001b[1;32mC:\\ProgramData\\Anaconda3\\lib\\site-packages\\pandas\\core\\frame.py\u001b[0m in \u001b[0;36m__getitem__\u001b[1;34m(self, key)\u001b[0m\n\u001b[0;32m   2900\u001b[0m             \u001b[1;32mif\u001b[0m \u001b[0mself\u001b[0m\u001b[1;33m.\u001b[0m\u001b[0mcolumns\u001b[0m\u001b[1;33m.\u001b[0m\u001b[0mnlevels\u001b[0m \u001b[1;33m>\u001b[0m \u001b[1;36m1\u001b[0m\u001b[1;33m:\u001b[0m\u001b[1;33m\u001b[0m\u001b[1;33m\u001b[0m\u001b[0m\n\u001b[0;32m   2901\u001b[0m                 \u001b[1;32mreturn\u001b[0m \u001b[0mself\u001b[0m\u001b[1;33m.\u001b[0m\u001b[0m_getitem_multilevel\u001b[0m\u001b[1;33m(\u001b[0m\u001b[0mkey\u001b[0m\u001b[1;33m)\u001b[0m\u001b[1;33m\u001b[0m\u001b[1;33m\u001b[0m\u001b[0m\n\u001b[1;32m-> 2902\u001b[1;33m             \u001b[0mindexer\u001b[0m \u001b[1;33m=\u001b[0m \u001b[0mself\u001b[0m\u001b[1;33m.\u001b[0m\u001b[0mcolumns\u001b[0m\u001b[1;33m.\u001b[0m\u001b[0mget_loc\u001b[0m\u001b[1;33m(\u001b[0m\u001b[0mkey\u001b[0m\u001b[1;33m)\u001b[0m\u001b[1;33m\u001b[0m\u001b[1;33m\u001b[0m\u001b[0m\n\u001b[0m\u001b[0;32m   2903\u001b[0m             \u001b[1;32mif\u001b[0m \u001b[0mis_integer\u001b[0m\u001b[1;33m(\u001b[0m\u001b[0mindexer\u001b[0m\u001b[1;33m)\u001b[0m\u001b[1;33m:\u001b[0m\u001b[1;33m\u001b[0m\u001b[1;33m\u001b[0m\u001b[0m\n\u001b[0;32m   2904\u001b[0m                 \u001b[0mindexer\u001b[0m \u001b[1;33m=\u001b[0m \u001b[1;33m[\u001b[0m\u001b[0mindexer\u001b[0m\u001b[1;33m]\u001b[0m\u001b[1;33m\u001b[0m\u001b[1;33m\u001b[0m\u001b[0m\n",
      "\u001b[1;32mC:\\ProgramData\\Anaconda3\\lib\\site-packages\\pandas\\core\\indexes\\base.py\u001b[0m in \u001b[0;36mget_loc\u001b[1;34m(self, key, method, tolerance)\u001b[0m\n\u001b[0;32m   2895\u001b[0m                 \u001b[1;32mreturn\u001b[0m \u001b[0mself\u001b[0m\u001b[1;33m.\u001b[0m\u001b[0m_engine\u001b[0m\u001b[1;33m.\u001b[0m\u001b[0mget_loc\u001b[0m\u001b[1;33m(\u001b[0m\u001b[0mcasted_key\u001b[0m\u001b[1;33m)\u001b[0m\u001b[1;33m\u001b[0m\u001b[1;33m\u001b[0m\u001b[0m\n\u001b[0;32m   2896\u001b[0m             \u001b[1;32mexcept\u001b[0m \u001b[0mKeyError\u001b[0m \u001b[1;32mas\u001b[0m \u001b[0merr\u001b[0m\u001b[1;33m:\u001b[0m\u001b[1;33m\u001b[0m\u001b[1;33m\u001b[0m\u001b[0m\n\u001b[1;32m-> 2897\u001b[1;33m                 \u001b[1;32mraise\u001b[0m \u001b[0mKeyError\u001b[0m\u001b[1;33m(\u001b[0m\u001b[0mkey\u001b[0m\u001b[1;33m)\u001b[0m \u001b[1;32mfrom\u001b[0m \u001b[0merr\u001b[0m\u001b[1;33m\u001b[0m\u001b[1;33m\u001b[0m\u001b[0m\n\u001b[0m\u001b[0;32m   2898\u001b[0m \u001b[1;33m\u001b[0m\u001b[0m\n\u001b[0;32m   2899\u001b[0m         \u001b[1;32mif\u001b[0m \u001b[0mtolerance\u001b[0m \u001b[1;32mis\u001b[0m \u001b[1;32mnot\u001b[0m \u001b[1;32mNone\u001b[0m\u001b[1;33m:\u001b[0m\u001b[1;33m\u001b[0m\u001b[1;33m\u001b[0m\u001b[0m\n",
      "\u001b[1;31mKeyError\u001b[0m: 'CRP'"
     ]
    }
   ],
   "source": [
    "plt.bar(coeff_df['CRP'], coeff_df['CRT_MGP'])\n",
    "plt.xticks(rotation=30)\n",
    "plt.ylabel('Cofficient')\n",
    "colors = ['orange','skyblue','brown','red','gray','indigo','green']\n",
    "plt.show()"
   ]
  },
  {
   "cell_type": "code",
   "execution_count": 151,
   "metadata": {},
   "outputs": [
    {
     "data": {
      "text/html": [
       "<div>\n",
       "<style scoped>\n",
       "    .dataframe tbody tr th:only-of-type {\n",
       "        vertical-align: middle;\n",
       "    }\n",
       "\n",
       "    .dataframe tbody tr th {\n",
       "        vertical-align: top;\n",
       "    }\n",
       "\n",
       "    .dataframe thead th {\n",
       "        text-align: right;\n",
       "    }\n",
       "</style>\n",
       "<table border=\"1\" class=\"dataframe\">\n",
       "  <thead>\n",
       "    <tr style=\"text-align: right;\">\n",
       "      <th></th>\n",
       "      <th>0</th>\n",
       "    </tr>\n",
       "  </thead>\n",
       "  <tbody>\n",
       "    <tr>\n",
       "      <th>0</th>\n",
       "      <td>49.558346</td>\n",
       "    </tr>\n",
       "    <tr>\n",
       "      <th>1</th>\n",
       "      <td>48.732222</td>\n",
       "    </tr>\n",
       "    <tr>\n",
       "      <th>2</th>\n",
       "      <td>52.427443</td>\n",
       "    </tr>\n",
       "    <tr>\n",
       "      <th>3</th>\n",
       "      <td>36.728391</td>\n",
       "    </tr>\n",
       "    <tr>\n",
       "      <th>4</th>\n",
       "      <td>41.027573</td>\n",
       "    </tr>\n",
       "    <tr>\n",
       "      <th>...</th>\n",
       "      <td>...</td>\n",
       "    </tr>\n",
       "    <tr>\n",
       "      <th>845</th>\n",
       "      <td>62.585819</td>\n",
       "    </tr>\n",
       "    <tr>\n",
       "      <th>846</th>\n",
       "      <td>23.376648</td>\n",
       "    </tr>\n",
       "    <tr>\n",
       "      <th>847</th>\n",
       "      <td>38.985126</td>\n",
       "    </tr>\n",
       "    <tr>\n",
       "      <th>848</th>\n",
       "      <td>61.860070</td>\n",
       "    </tr>\n",
       "    <tr>\n",
       "      <th>849</th>\n",
       "      <td>46.420870</td>\n",
       "    </tr>\n",
       "  </tbody>\n",
       "</table>\n",
       "<p>850 rows × 1 columns</p>\n",
       "</div>"
      ],
      "text/plain": [
       "             0\n",
       "0    49.558346\n",
       "1    48.732222\n",
       "2    52.427443\n",
       "3    36.728391\n",
       "4    41.027573\n",
       "..         ...\n",
       "845  62.585819\n",
       "846  23.376648\n",
       "847  38.985126\n",
       "848  61.860070\n",
       "849  46.420870\n",
       "\n",
       "[850 rows x 1 columns]"
      ]
     },
     "execution_count": 151,
     "metadata": {},
     "output_type": "execute_result"
    }
   ],
   "source": [
    "predictions = lm.predict(X_test)\n",
    "pd.DataFrame(predictions)"
   ]
  },
  {
   "cell_type": "code",
   "execution_count": 152,
   "metadata": {},
   "outputs": [
    {
     "data": {
      "text/plain": [
       "2727    46.638523\n",
       "2778    48.129781\n",
       "1146    51.608004\n",
       "1110    37.168848\n",
       "196     42.060598\n",
       "Name: CRT, dtype: float64"
      ]
     },
     "execution_count": 152,
     "metadata": {},
     "output_type": "execute_result"
    }
   ],
   "source": [
    "y_test.head()"
   ]
  },
  {
   "cell_type": "code",
   "execution_count": 153,
   "metadata": {},
   "outputs": [
    {
     "data": {
      "image/png": "[encoded data removed]",
      "text/plain": [
       "<Figure size 720x360 with 1 Axes>"
      ]
     },
     "metadata": {
      "needs_background": "light"
     },
     "output_type": "display_data"
    }
   ],
   "source": [
    "plt.scatter(y_test,predictions);"
   ]
  },
  {
   "cell_type": "code",
   "execution_count": 154,
   "metadata": {},
   "outputs": [
    {
     "name": "stderr",
     "output_type": "stream",
     "text": [
      "C:\\ProgramData\\Anaconda3\\lib\\site-packages\\seaborn\\distributions.py:2551: FutureWarning: `distplot` is a deprecated function and will be removed in a future version. Please adapt your code to use either `displot` (a figure-level function with similar flexibility) or `histplot` (an axes-level function for histograms).\n",
      "  warnings.warn(msg, FutureWarning)\n"
     ]
    },
    {
     "data": {
      "image/png": "[encoded data removed]",
      "text/plain": [
       "<Figure size 720x360 with 1 Axes>"
      ]
     },
     "metadata": {
      "needs_background": "light"
     },
     "output_type": "display_data"
    }
   ],
   "source": [
    "sns.distplot((y_test-predictions),bins=100);"
   ]
  },
  {
   "cell_type": "code",
   "execution_count": 155,
   "metadata": {},
   "outputs": [
    {
     "data": {
      "text/html": [
       "<div>\n",
       "<style scoped>\n",
       "    .dataframe tbody tr th:only-of-type {\n",
       "        vertical-align: middle;\n",
       "    }\n",
       "\n",
       "    .dataframe tbody tr th {\n",
       "        vertical-align: top;\n",
       "    }\n",
       "\n",
       "    .dataframe thead th {\n",
       "        text-align: right;\n",
       "    }\n",
       "</style>\n",
       "<table border=\"1\" class=\"dataframe\">\n",
       "  <thead>\n",
       "    <tr style=\"text-align: right;\">\n",
       "      <th></th>\n",
       "      <th>DR</th>\n",
       "      <th>CRP</th>\n",
       "      <th>CRP-MGP</th>\n",
       "      <th>CRT</th>\n",
       "    </tr>\n",
       "  </thead>\n",
       "  <tbody>\n",
       "    <tr>\n",
       "      <th>DR</th>\n",
       "      <td>1.000000</td>\n",
       "      <td>0.595113</td>\n",
       "      <td>0.823796</td>\n",
       "      <td>0.748865</td>\n",
       "    </tr>\n",
       "    <tr>\n",
       "      <th>CRP</th>\n",
       "      <td>0.595113</td>\n",
       "      <td>1.000000</td>\n",
       "      <td>0.451435</td>\n",
       "      <td>0.866771</td>\n",
       "    </tr>\n",
       "    <tr>\n",
       "      <th>CRP-MGP</th>\n",
       "      <td>0.823796</td>\n",
       "      <td>0.451435</td>\n",
       "      <td>1.000000</td>\n",
       "      <td>0.809871</td>\n",
       "    </tr>\n",
       "    <tr>\n",
       "      <th>CRT</th>\n",
       "      <td>0.748865</td>\n",
       "      <td>0.866771</td>\n",
       "      <td>0.809871</td>\n",
       "      <td>1.000000</td>\n",
       "    </tr>\n",
       "  </tbody>\n",
       "</table>\n",
       "</div>"
      ],
      "text/plain": [
       "               DR       CRP   CRP-MGP       CRT\n",
       "DR       1.000000  0.595113  0.823796  0.748865\n",
       "CRP      0.595113  1.000000  0.451435  0.866771\n",
       "CRP-MGP  0.823796  0.451435  1.000000  0.809871\n",
       "CRT      0.748865  0.866771  0.809871  1.000000"
      ]
     },
     "execution_count": 155,
     "metadata": {},
     "output_type": "execute_result"
    }
   ],
   "source": [
    "waste.corr()"
   ]
  },
  {
   "cell_type": "code",
   "execution_count": 156,
   "metadata": {},
   "outputs": [],
   "source": [
    "## Regression evaluation metrics"
   ]
  },
  {
   "cell_type": "code",
   "execution_count": 157,
   "metadata": {},
   "outputs": [],
   "source": [
    "from sklearn import metrics"
   ]
  },
  {
   "cell_type": "code",
   "execution_count": 158,
   "metadata": {},
   "outputs": [
    {
     "name": "stdout",
     "output_type": "stream",
     "text": [
      "MAE: 0.8622220854911684\n"
     ]
    }
   ],
   "source": [
    "print('MAE:', metrics.mean_absolute_error(y_test, predictions))"
   ]
  },
  {
   "cell_type": "code",
   "execution_count": 159,
   "metadata": {},
   "outputs": [
    {
     "name": "stdout",
     "output_type": "stream",
     "text": [
      "MSE: 1.2840679477026988\n"
     ]
    }
   ],
   "source": [
    "print('MSE:', metrics.mean_squared_error(y_test, predictions))"
   ]
  },
  {
   "cell_type": "code",
   "execution_count": 160,
   "metadata": {},
   "outputs": [
    {
     "name": "stdout",
     "output_type": "stream",
     "text": [
      "RMSE: 1.133167219655907\n"
     ]
    }
   ],
   "source": [
    "print('RMSE:', np.sqrt(metrics.mean_squared_error(y_test, predictions)))"
   ]
  },
  {
   "cell_type": "code",
   "execution_count": 161,
   "metadata": {},
   "outputs": [
    {
     "data": {
      "text/html": [
       "<div>\n",
       "<style scoped>\n",
       "    .dataframe tbody tr th:only-of-type {\n",
       "        vertical-align: middle;\n",
       "    }\n",
       "\n",
       "    .dataframe tbody tr th {\n",
       "        vertical-align: top;\n",
       "    }\n",
       "\n",
       "    .dataframe thead th {\n",
       "        text-align: right;\n",
       "    }\n",
       "</style>\n",
       "<table border=\"1\" class=\"dataframe\">\n",
       "  <thead>\n",
       "    <tr style=\"text-align: right;\">\n",
       "      <th></th>\n",
       "      <th>Zone</th>\n",
       "      <th>District</th>\n",
       "      <th>Fiscal Month Number</th>\n",
       "      <th>Fiscal Year</th>\n",
       "      <th>Month Name</th>\n",
       "      <th>Diversion Rate-Total (Total Recycling / Total Waste)</th>\n",
       "      <th>Capture Rate-Paper (Total Paper / Max Paper)</th>\n",
       "      <th>Capture Rate-MGP (Total MGP / Max MGP)</th>\n",
       "      <th>Capture Rate-Total ((Total Recycling - Leaves (Recycling)) / (Max Paper + Max MGP))x100</th>\n",
       "    </tr>\n",
       "  </thead>\n",
       "  <tbody>\n",
       "    <tr>\n",
       "      <th>0</th>\n",
       "      <td>Brooklyn North</td>\n",
       "      <td>BKN01</td>\n",
       "      <td>10</td>\n",
       "      <td>2019</td>\n",
       "      <td>April</td>\n",
       "      <td>14.687093</td>\n",
       "      <td>44.909160</td>\n",
       "      <td>43.034062</td>\n",
       "      <td>44.146764</td>\n",
       "    </tr>\n",
       "    <tr>\n",
       "      <th>1</th>\n",
       "      <td>Brooklyn North</td>\n",
       "      <td>BKN02</td>\n",
       "      <td>10</td>\n",
       "      <td>2019</td>\n",
       "      <td>April</td>\n",
       "      <td>19.950181</td>\n",
       "      <td>34.194020</td>\n",
       "      <td>57.947031</td>\n",
       "      <td>41.213700</td>\n",
       "    </tr>\n",
       "    <tr>\n",
       "      <th>2</th>\n",
       "      <td>Brooklyn North</td>\n",
       "      <td>BKN03</td>\n",
       "      <td>10</td>\n",
       "      <td>2019</td>\n",
       "      <td>April</td>\n",
       "      <td>12.164161</td>\n",
       "      <td>33.521557</td>\n",
       "      <td>44.919731</td>\n",
       "      <td>38.155937</td>\n",
       "    </tr>\n",
       "    <tr>\n",
       "      <th>3</th>\n",
       "      <td>Brooklyn North</td>\n",
       "      <td>BKN04</td>\n",
       "      <td>10</td>\n",
       "      <td>2019</td>\n",
       "      <td>April</td>\n",
       "      <td>15.541803</td>\n",
       "      <td>35.211361</td>\n",
       "      <td>68.511260</td>\n",
       "      <td>48.750755</td>\n",
       "    </tr>\n",
       "    <tr>\n",
       "      <th>4</th>\n",
       "      <td>Brooklyn North</td>\n",
       "      <td>BKN05</td>\n",
       "      <td>10</td>\n",
       "      <td>2019</td>\n",
       "      <td>April</td>\n",
       "      <td>10.051845</td>\n",
       "      <td>22.265430</td>\n",
       "      <td>45.051791</td>\n",
       "      <td>31.530129</td>\n",
       "    </tr>\n",
       "    <tr>\n",
       "      <th>...</th>\n",
       "      <td>...</td>\n",
       "      <td>...</td>\n",
       "      <td>...</td>\n",
       "      <td>...</td>\n",
       "      <td>...</td>\n",
       "      <td>...</td>\n",
       "      <td>...</td>\n",
       "      <td>...</td>\n",
       "      <td>...</td>\n",
       "    </tr>\n",
       "    <tr>\n",
       "      <th>2827</th>\n",
       "      <td>Queens West</td>\n",
       "      <td>QW06</td>\n",
       "      <td>3</td>\n",
       "      <td>2016</td>\n",
       "      <td>September</td>\n",
       "      <td>20.121474</td>\n",
       "      <td>30.419689</td>\n",
       "      <td>67.956136</td>\n",
       "      <td>39.033308</td>\n",
       "    </tr>\n",
       "    <tr>\n",
       "      <th>2828</th>\n",
       "      <td>Queens West</td>\n",
       "      <td>QW09</td>\n",
       "      <td>3</td>\n",
       "      <td>2016</td>\n",
       "      <td>September</td>\n",
       "      <td>17.434862</td>\n",
       "      <td>41.106547</td>\n",
       "      <td>79.695072</td>\n",
       "      <td>54.272736</td>\n",
       "    </tr>\n",
       "    <tr>\n",
       "      <th>2829</th>\n",
       "      <td>Staten Island</td>\n",
       "      <td>SI01</td>\n",
       "      <td>3</td>\n",
       "      <td>2016</td>\n",
       "      <td>September</td>\n",
       "      <td>18.683835</td>\n",
       "      <td>39.519943</td>\n",
       "      <td>71.716492</td>\n",
       "      <td>49.652669</td>\n",
       "    </tr>\n",
       "    <tr>\n",
       "      <th>2830</th>\n",
       "      <td>Staten Island</td>\n",
       "      <td>SI02</td>\n",
       "      <td>3</td>\n",
       "      <td>2016</td>\n",
       "      <td>September</td>\n",
       "      <td>19.016819</td>\n",
       "      <td>44.457926</td>\n",
       "      <td>74.960200</td>\n",
       "      <td>54.057439</td>\n",
       "    </tr>\n",
       "    <tr>\n",
       "      <th>2831</th>\n",
       "      <td>Staten Island</td>\n",
       "      <td>SI03</td>\n",
       "      <td>3</td>\n",
       "      <td>2016</td>\n",
       "      <td>September</td>\n",
       "      <td>20.310479</td>\n",
       "      <td>48.209297</td>\n",
       "      <td>79.496877</td>\n",
       "      <td>58.055957</td>\n",
       "    </tr>\n",
       "  </tbody>\n",
       "</table>\n",
       "<p>2832 rows × 9 columns</p>\n",
       "</div>"
      ],
      "text/plain": [
       "                Zone District  Fiscal Month Number  Fiscal Year Month Name  \\\n",
       "0     Brooklyn North    BKN01                   10         2019      April   \n",
       "1     Brooklyn North    BKN02                   10         2019      April   \n",
       "2     Brooklyn North    BKN03                   10         2019      April   \n",
       "3     Brooklyn North    BKN04                   10         2019      April   \n",
       "4     Brooklyn North    BKN05                   10         2019      April   \n",
       "...              ...      ...                  ...          ...        ...   \n",
       "2827     Queens West     QW06                    3         2016  September   \n",
       "2828     Queens West     QW09                    3         2016  September   \n",
       "2829   Staten Island     SI01                    3         2016  September   \n",
       "2830   Staten Island     SI02                    3         2016  September   \n",
       "2831   Staten Island     SI03                    3         2016  September   \n",
       "\n",
       "      Diversion Rate-Total (Total Recycling / Total Waste)  \\\n",
       "0                                             14.687093      \n",
       "1                                             19.950181      \n",
       "2                                             12.164161      \n",
       "3                                             15.541803      \n",
       "4                                             10.051845      \n",
       "...                                                 ...      \n",
       "2827                                          20.121474      \n",
       "2828                                          17.434862      \n",
       "2829                                          18.683835      \n",
       "2830                                          19.016819      \n",
       "2831                                          20.310479      \n",
       "\n",
       "      Capture Rate-Paper (Total Paper / Max Paper)  \\\n",
       "0                                        44.909160   \n",
       "1                                        34.194020   \n",
       "2                                        33.521557   \n",
       "3                                        35.211361   \n",
       "4                                        22.265430   \n",
       "...                                            ...   \n",
       "2827                                     30.419689   \n",
       "2828                                     41.106547   \n",
       "2829                                     39.519943   \n",
       "2830                                     44.457926   \n",
       "2831                                     48.209297   \n",
       "\n",
       "      Capture Rate-MGP (Total MGP / Max MGP)  \\\n",
       "0                                  43.034062   \n",
       "1                                  57.947031   \n",
       "2                                  44.919731   \n",
       "3                                  68.511260   \n",
       "4                                  45.051791   \n",
       "...                                      ...   \n",
       "2827                               67.956136   \n",
       "2828                               79.695072   \n",
       "2829                               71.716492   \n",
       "2830                               74.960200   \n",
       "2831                               79.496877   \n",
       "\n",
       "      Capture Rate-Total ((Total Recycling - Leaves (Recycling)) / (Max Paper + Max MGP))x100  \n",
       "0                                             44.146764                                        \n",
       "1                                             41.213700                                        \n",
       "2                                             38.155937                                        \n",
       "3                                             48.750755                                        \n",
       "4                                             31.530129                                        \n",
       "...                                                 ...                                        \n",
       "2827                                          39.033308                                        \n",
       "2828                                          54.272736                                        \n",
       "2829                                          49.652669                                        \n",
       "2830                                          54.057439                                        \n",
       "2831                                          58.055957                                        \n",
       "\n",
       "[2832 rows x 9 columns]"
      ]
     },
     "execution_count": 161,
     "metadata": {},
     "output_type": "execute_result"
    }
   ],
   "source": [
    "recycle = pd.read_csv('recycling-diversion-and-capture-rates.csv')\n",
    "recycle"
   ]
  },
  {
   "cell_type": "code",
   "execution_count": 162,
   "metadata": {},
   "outputs": [
    {
     "data": {
      "text/html": [
       "<div>\n",
       "<style scoped>\n",
       "    .dataframe tbody tr th:only-of-type {\n",
       "        vertical-align: middle;\n",
       "    }\n",
       "\n",
       "    .dataframe tbody tr th {\n",
       "        vertical-align: top;\n",
       "    }\n",
       "\n",
       "    .dataframe thead th {\n",
       "        text-align: right;\n",
       "    }\n",
       "</style>\n",
       "<table border=\"1\" class=\"dataframe\">\n",
       "  <thead>\n",
       "    <tr style=\"text-align: right;\">\n",
       "      <th></th>\n",
       "      <th>Zone</th>\n",
       "      <th>Month Name</th>\n",
       "      <th>DR</th>\n",
       "      <th>CRP</th>\n",
       "      <th>CRP-MGP</th>\n",
       "      <th>CRT</th>\n",
       "    </tr>\n",
       "  </thead>\n",
       "  <tbody>\n",
       "    <tr>\n",
       "      <th>0</th>\n",
       "      <td>KETU</td>\n",
       "      <td>April</td>\n",
       "      <td>14.687093</td>\n",
       "      <td>44.909160</td>\n",
       "      <td>43.034062</td>\n",
       "      <td>44.146764</td>\n",
       "    </tr>\n",
       "    <tr>\n",
       "      <th>1</th>\n",
       "      <td>KETU</td>\n",
       "      <td>April</td>\n",
       "      <td>19.950181</td>\n",
       "      <td>34.194020</td>\n",
       "      <td>57.947031</td>\n",
       "      <td>41.213700</td>\n",
       "    </tr>\n",
       "    <tr>\n",
       "      <th>2</th>\n",
       "      <td>KETU</td>\n",
       "      <td>April</td>\n",
       "      <td>12.164161</td>\n",
       "      <td>33.521557</td>\n",
       "      <td>44.919731</td>\n",
       "      <td>38.155937</td>\n",
       "    </tr>\n",
       "    <tr>\n",
       "      <th>3</th>\n",
       "      <td>KETU</td>\n",
       "      <td>April</td>\n",
       "      <td>15.541803</td>\n",
       "      <td>35.211361</td>\n",
       "      <td>68.511260</td>\n",
       "      <td>48.750755</td>\n",
       "    </tr>\n",
       "    <tr>\n",
       "      <th>4</th>\n",
       "      <td>KETU</td>\n",
       "      <td>April</td>\n",
       "      <td>10.051845</td>\n",
       "      <td>22.265430</td>\n",
       "      <td>45.051791</td>\n",
       "      <td>31.530129</td>\n",
       "    </tr>\n",
       "    <tr>\n",
       "      <th>...</th>\n",
       "      <td>...</td>\n",
       "      <td>...</td>\n",
       "      <td>...</td>\n",
       "      <td>...</td>\n",
       "      <td>...</td>\n",
       "      <td>...</td>\n",
       "    </tr>\n",
       "    <tr>\n",
       "      <th>2827</th>\n",
       "      <td>IKEJA</td>\n",
       "      <td>September</td>\n",
       "      <td>20.121474</td>\n",
       "      <td>30.419689</td>\n",
       "      <td>67.956136</td>\n",
       "      <td>39.033308</td>\n",
       "    </tr>\n",
       "    <tr>\n",
       "      <th>2828</th>\n",
       "      <td>IKEJA</td>\n",
       "      <td>September</td>\n",
       "      <td>17.434862</td>\n",
       "      <td>41.106547</td>\n",
       "      <td>79.695072</td>\n",
       "      <td>54.272736</td>\n",
       "    </tr>\n",
       "    <tr>\n",
       "      <th>2829</th>\n",
       "      <td>LEKKI</td>\n",
       "      <td>September</td>\n",
       "      <td>18.683835</td>\n",
       "      <td>39.519943</td>\n",
       "      <td>71.716492</td>\n",
       "      <td>49.652669</td>\n",
       "    </tr>\n",
       "    <tr>\n",
       "      <th>2830</th>\n",
       "      <td>LEKKI</td>\n",
       "      <td>September</td>\n",
       "      <td>19.016819</td>\n",
       "      <td>44.457926</td>\n",
       "      <td>74.960200</td>\n",
       "      <td>54.057439</td>\n",
       "    </tr>\n",
       "    <tr>\n",
       "      <th>2831</th>\n",
       "      <td>LEKKI</td>\n",
       "      <td>September</td>\n",
       "      <td>20.310479</td>\n",
       "      <td>48.209297</td>\n",
       "      <td>79.496877</td>\n",
       "      <td>58.055957</td>\n",
       "    </tr>\n",
       "  </tbody>\n",
       "</table>\n",
       "<p>2832 rows × 6 columns</p>\n",
       "</div>"
      ],
      "text/plain": [
       "       Zone Month Name         DR        CRP    CRP-MGP        CRT\n",
       "0      KETU      April  14.687093  44.909160  43.034062  44.146764\n",
       "1      KETU      April  19.950181  34.194020  57.947031  41.213700\n",
       "2      KETU      April  12.164161  33.521557  44.919731  38.155937\n",
       "3      KETU      April  15.541803  35.211361  68.511260  48.750755\n",
       "4      KETU      April  10.051845  22.265430  45.051791  31.530129\n",
       "...     ...        ...        ...        ...        ...        ...\n",
       "2827  IKEJA  September  20.121474  30.419689  67.956136  39.033308\n",
       "2828  IKEJA  September  17.434862  41.106547  79.695072  54.272736\n",
       "2829  LEKKI  September  18.683835  39.519943  71.716492  49.652669\n",
       "2830  LEKKI  September  19.016819  44.457926  74.960200  54.057439\n",
       "2831  LEKKI  September  20.310479  48.209297  79.496877  58.055957\n",
       "\n",
       "[2832 rows x 6 columns]"
      ]
     },
     "execution_count": 162,
     "metadata": {},
     "output_type": "execute_result"
    }
   ],
   "source": [
    "waste"
   ]
  },
  {
   "cell_type": "code",
   "execution_count": 163,
   "metadata": {},
   "outputs": [
    {
     "data": {
      "text/plain": [
       "Zone\n",
       "IKEJA     51.505599\n",
       "IKOYI     48.768839\n",
       "KETU      39.659000\n",
       "LEKKI     55.533794\n",
       "MAGODO    51.058554\n",
       "MUSHIN    40.198558\n",
       "ORILE     46.331025\n",
       "Name: CRT, dtype: float64"
      ]
     },
     "execution_count": 163,
     "metadata": {},
     "output_type": "execute_result"
    }
   ],
   "source": [
    "CRT_MEAN = waste.groupby('Zone').CRT.mean ()\n",
    "CRT_MEAN"
   ]
  },
  {
   "cell_type": "code",
   "execution_count": 167,
   "metadata": {},
   "outputs": [
    {
     "data": {
      "text/plain": [
       "Zone\n",
       "IKEJA     19.468078\n",
       "IKOYI     18.309736\n",
       "KETU      13.658001\n",
       "LEKKI     20.410823\n",
       "MAGODO    19.300317\n",
       "MUSHIN    13.614674\n",
       "ORILE     20.489944\n",
       "Name: DR, dtype: float64"
      ]
     },
     "execution_count": 167,
     "metadata": {},
     "output_type": "execute_result"
    }
   ],
   "source": [
    "DIV_MEAN = waste.groupby('Zone').DR.mean ()\n",
    "DIV_MEAN"
   ]
  },
  {
   "cell_type": "code",
   "execution_count": 168,
   "metadata": {},
   "outputs": [
    {
     "data": {
      "text/plain": [
       "Zone\n",
       "IKEJA     19.0\n",
       "IKOYI     18.0\n",
       "KETU      14.0\n",
       "LEKKI     20.0\n",
       "MAGODO    19.0\n",
       "MUSHIN    14.0\n",
       "ORILE     20.0\n",
       "Name: DR, dtype: float64"
      ]
     },
     "execution_count": 168,
     "metadata": {},
     "output_type": "execute_result"
    }
   ],
   "source": [
    "DIV_MEAN.round()"
   ]
  },
  {
   "cell_type": "code",
   "execution_count": 169,
   "metadata": {},
   "outputs": [
    {
     "data": {
      "text/plain": [
       "58.064516129032256"
      ]
     },
     "execution_count": 169,
     "metadata": {},
     "output_type": "execute_result"
    }
   ],
   "source": [
    "20/124*360"
   ]
  },
  {
   "cell_type": "code",
   "execution_count": null,
   "metadata": {},
   "outputs": [],
   "source": []
  }
 ],
 "metadata": {
  "kernelspec": {
   "display_name": "Python 3",
   "language": "python",
   "name": "python3"
  },
  "language_info": {
   "codemirror_mode": {
    "name": "ipython",
    "version": 3
   },
   "file_extension": ".py",
   "mimetype": "text/x-python",
   "name": "python",
   "nbconvert_exporter": "python",
   "pygments_lexer": "ipython3",
   "version": "3.8.8"
  }
 },
 "nbformat": 4,
 "nbformat_minor": 4
}
